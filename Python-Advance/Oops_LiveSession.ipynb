{
  "nbformat": 4,
  "nbformat_minor": 0,
  "metadata": {
    "colab": {
      "provenance": []
    },
    "kernelspec": {
      "name": "python3",
      "display_name": "Python 3"
    },
    "language_info": {
      "name": "python"
    }
  },
  "cells": [
    {
      "cell_type": "code",
      "execution_count": null,
      "metadata": {
        "colab": {
          "base_uri": "https://localhost:8080/"
        },
        "id": "n0hPI5kH5Hca",
        "outputId": "788b660f-1a18-4d87-9b65-483ead1d1b4e"
      },
      "outputs": [
        {
          "output_type": "stream",
          "name": "stdout",
          "text": [
            "Model S\n",
            "Tesla\n"
          ]
        }
      ],
      "source": [
        "#ENCAPSULATION\n",
        "\n",
        "class Car:\n",
        "    def __init__(self, brand, model, year):\n",
        "        # self.__brand = brand  # Encapsulate with double underscore #private attribute\n",
        "        self.__brand = brand\n",
        "        self.model = model\n",
        "        self.year = year\n",
        "\n",
        "    def get_brand(self):  # Public method to access private attribute\n",
        "        return self.__brand\n",
        "\n",
        "    def accelerate(self):\n",
        "        print(f\"The {self.model} is accelerating!\")\n",
        "\n",
        "# Create a Car object\n",
        "my_car = Car(\"Tesla\", \"Model S\", 2023)\n",
        "\n",
        "# Access public attribute\n",
        "print(my_car.model)  # Output: Model S\n",
        "\n",
        "print(my_car.get_brand())  # Output: Tesla\n"
      ]
    },
    {
      "cell_type": "code",
      "source": [
        "#POLYMORPHISM\n",
        "\n",
        "class Animal: #parent class\n",
        "    def make_sound(self):\n",
        "        print(\"Generic animal sound\")\n",
        "\n",
        "class Dog(Animal): #subclass \"dog\" inheriting from Animal  #subclasss - dog inherting from \"Animal\" class\n",
        "    def make_sound(self):\n",
        "        print(\"Woof!\")\n",
        "\n",
        "\n",
        "class Cat(Animal): #subclass \"cat\" inheriting from parent class \"Animal\"\n",
        "    def make_sound(self):\n",
        "        print(\"Meow!\")\n",
        "\n",
        "\n",
        "def speak(animal): #speak - method responsible for polymorphism, animal : object\n",
        "    animal.make_sound()  # Polymorphic behavior\n",
        "\n",
        "# Create Animal objects\n",
        "dog = Dog()\n",
        "cat = Cat()\n",
        "\n",
        "speak(dog)  # Output: Woof!\n",
        "speak(cat)  # Output: Meow!"
      ],
      "metadata": {
        "colab": {
          "base_uri": "https://localhost:8080/"
        },
        "id": "XGBfTa1F5Xfw",
        "outputId": "dc4acde2-5a9d-4746-eb86-c9ce92735dfa"
      },
      "execution_count": null,
      "outputs": [
        {
          "output_type": "stream",
          "name": "stdout",
          "text": [
            "Woof!\n",
            "Meow!\n"
          ]
        }
      ]
    },
    {
      "cell_type": "code",
      "source": [
        "#SINGLE LEVEL INHERITANCE - one base class/ one dervied class\n",
        "\n",
        "# Base class\n",
        "class Animal:\n",
        "    def speak(self):\n",
        "        print(\"Animal speaks\")\n",
        "\n",
        "# Derived class\n",
        "class Dog(Animal):\n",
        "    def bark(self):\n",
        "        print(\"Dog barks\")\n",
        "\n",
        "# Create an instance of Dog\n",
        "dog = Dog()\n",
        "dog.speak()  # Inherited method #output - animal speaks\n",
        "dog.bark()   # Method of Dog class\n"
      ],
      "metadata": {
        "colab": {
          "base_uri": "https://localhost:8080/"
        },
        "id": "Na4rXZgx5Xiy",
        "outputId": "d05987e3-c308-4209-94b4-56b993499dd0"
      },
      "execution_count": null,
      "outputs": [
        {
          "output_type": "stream",
          "name": "stdout",
          "text": [
            "Animal speaks\n",
            "Dog barks\n"
          ]
        }
      ]
    },
    {
      "cell_type": "code",
      "source": [
        "#multi level inheritance\n",
        "\n",
        "# Base class #self - use to acessing the instances variables and methods\n",
        "class Animal:\n",
        "    def speak(self):\n",
        "        print(\"Animal speaks\")\n",
        "\n",
        "# Derived class\n",
        "class Dog(Animal):\n",
        "    def bark(self):\n",
        "        print(\"Dog barks\")\n",
        "\n",
        "# Further derived class\n",
        "class Puppy(Dog):\n",
        "    def cry(self):\n",
        "        print(\"Puppy cries\")\n",
        "\n",
        "\n",
        "# Create an instance of Puppy\n",
        "puppy = Puppy()\n",
        "\n",
        "puppy.speak()  # Inherited from Animal\n",
        "puppy.bark()   # Inherited from Dog\n",
        "puppy.cry()    # Method of Puppy class"
      ],
      "metadata": {
        "colab": {
          "base_uri": "https://localhost:8080/"
        },
        "id": "9pQISBKv5XmN",
        "outputId": "f22d61ed-7fee-4b57-bc59-aaafbe82d1c5"
      },
      "execution_count": null,
      "outputs": [
        {
          "output_type": "stream",
          "name": "stdout",
          "text": [
            "Animal speaks\n",
            "Dog barks\n",
            "Puppy cries\n"
          ]
        }
      ]
    },
    {
      "cell_type": "code",
      "source": [
        "#METHOD OVERRIDING\n",
        "\n",
        "class Animal :\n",
        "  def make_sound (self) :\n",
        "    return \"generic\"\n",
        "\n",
        "class Dog(Animal):\n",
        "  def make_sound(self):\n",
        "    return \"woof\"\n",
        "\n",
        "class Cat(Animal):\n",
        "  def make_sound (self):\n",
        "    return \"meow\"\n",
        "\n",
        "# ques - do all the print statement will get printed in output ?\n",
        "\n",
        "# make instance+call instance\n",
        "\n",
        "dog=Dog()\n",
        "cat=Cat()\n",
        "\n",
        "print(dog.make_sound())\n",
        "print(cat.make_sound())\n",
        "\n"
      ],
      "metadata": {
        "colab": {
          "base_uri": "https://localhost:8080/"
        },
        "id": "ZD4p1BDA5nRU",
        "outputId": "96631514-c8ba-420c-bf83-0d8211a6ede3"
      },
      "execution_count": null,
      "outputs": [
        {
          "output_type": "stream",
          "name": "stdout",
          "text": [
            "woof\n",
            "meow\n"
          ]
        }
      ]
    },
    {
      "cell_type": "code",
      "source": [
        "#multiple level\n",
        "\n",
        "# Base class 1\n",
        "class Father:\n",
        "    def skills(self):\n",
        "        print(\"Father's skills\")\n",
        "\n",
        "# Base class 2\n",
        "class Mother:\n",
        "    def skills(self):\n",
        "        print(\"Mother's skills\")\n",
        "\n",
        "# Derived class\n",
        "class Child(Father, Mother): #multiple level inheritance going on here!\n",
        "    def skills(self):\n",
        "        super().skills()  # Calls the first class in the MRO (Method Resolution Order)\n",
        "        print(\"Child's skills\")\n",
        "\n",
        "# Create an instance of Child\n",
        "child = Child()\n",
        "mother = Mother()\n",
        "child.skills()  # This will call Child's skills method\n",
        "\n"
      ],
      "metadata": {
        "colab": {
          "base_uri": "https://localhost:8080/"
        },
        "id": "aB2ArK1k5roZ",
        "outputId": "0c357b10-8f58-4417-b98e-99fc210fe1b5"
      },
      "execution_count": null,
      "outputs": [
        {
          "output_type": "stream",
          "name": "stdout",
          "text": [
            "Father's skills\n",
            "Child's skills\n"
          ]
        }
      ]
    },
    {
      "cell_type": "code",
      "source": [
        "#hierarchical\n",
        "\n",
        "# Base class\n",
        "class Animal:\n",
        "    def speak(self):\n",
        "        print(\"Animal speaks\")\n",
        "\n",
        "# Derived class 1\n",
        "class Dog(Animal):\n",
        "    def bark(self):\n",
        "        print(\"Dog barks\")\n",
        "\n",
        "# Derived class 2\n",
        "class Cat(Animal):\n",
        "    def meow(self):\n",
        "        print(\"Cat meows\")\n",
        "\n",
        "# Create instances of Dog and Cat\n",
        "dog = Dog()\n",
        "cat = Cat()\n",
        "\n",
        "dog.speak()  # Inherited method calls\n",
        "dog.bark()   # Method of Dog class\n",
        "\n",
        "cat.speak()  # Inherited method\n",
        "cat.meow()   # Method of Cat class\n"
      ],
      "metadata": {
        "colab": {
          "base_uri": "https://localhost:8080/"
        },
        "id": "Dcn5CFI55rsA",
        "outputId": "357cf1ef-b674-4683-d620-a7be225c97c5"
      },
      "execution_count": null,
      "outputs": [
        {
          "output_type": "stream",
          "name": "stdout",
          "text": [
            "Animal speaks\n",
            "Dog barks\n",
            "Animal speaks\n",
            "Cat meows\n"
          ]
        }
      ]
    },
    {
      "cell_type": "code",
      "source": [
        "#Hybrid Inheritance = combination multiple inheritance + multi-level inheritance\n",
        "\n",
        "# Base class / name - attribute\n",
        "class Animal:\n",
        "    def __init__(self, name):\n",
        "        self.name = name\n",
        "\n",
        "    def speak(self):\n",
        "        print(f\"{self.name} makes a sound\")\n",
        "\n",
        "# Single inheritance\n",
        "class Dog(Animal):\n",
        "    def speak(self):\n",
        "        print(f\"{self.name} says Woof!\")\n",
        "\n",
        "# Multilevel inheritance\n",
        "class Puppy(Dog):\n",
        "    def speak(self):\n",
        "        print(f\"{self.name} says Yip!\")\n",
        "\n",
        "# Another base class\n",
        "class Bird:\n",
        "    def __init__(self, name):\n",
        "        self.name = name\n",
        "\n",
        "    def fly(self):\n",
        "        print(f\"{self.name} can fly\")\n",
        "\n",
        "# Multiple inheritance\n",
        "#FLYING DOG - BASE CLASS OR PARENT = INHERITED FROM DOG AND BIRD\n",
        "class FlyingDog(Dog, Bird):\n",
        "    def __init__(self, name):\n",
        "        Dog.__init__(self, name)\n",
        "        Bird.__init__(self, name)\n",
        "\n",
        "    def speak(self):\n",
        "        Dog.speak(self)\n",
        "        Bird.fly(self)\n",
        "\n",
        "# Hybrid inheritance\n",
        "class FlyingPuppy(Puppy, Bird):\n",
        "    def __init__(self, name):\n",
        "        Puppy.__init__(self, name)\n",
        "        Bird.__init__(self, name)\n",
        "\n",
        "    def speak(self):\n",
        "        Puppy.speak(self)\n",
        "        Bird.fly(self)\n",
        "\n",
        "# Create instances\n",
        "dog = Dog(\"Buddy\")\n",
        "puppy = Puppy(\"Fluffy\")\n",
        "flying_dog = FlyingDog(\"Sky\")\n",
        "flying_puppy = FlyingPuppy(\"Wings\")\n",
        "\n",
        "# Test the methods\n",
        "dog.speak()             # Output: Buddy says Woof!\n",
        "puppy.speak()           # Output: Fluffy says Yip!\n",
        "flying_dog.speak()      # Output: Sky says Woof! \\n Sky can fly\n",
        "flying_puppy.speak()\n",
        "\n"
      ],
      "metadata": {
        "colab": {
          "base_uri": "https://localhost:8080/"
        },
        "id": "osntgNPI5rwB",
        "outputId": "246cd823-e732-4eda-c9fe-6b027fd5ea55"
      },
      "execution_count": null,
      "outputs": [
        {
          "output_type": "stream",
          "name": "stdout",
          "text": [
            "Buddy says Woof!\n",
            "Fluffy says Yip!\n",
            "Sky says Woof!\n",
            "Sky can fly\n",
            "Wings says Yip!\n",
            "Wings can fly\n"
          ]
        }
      ]
    }
  ]
}