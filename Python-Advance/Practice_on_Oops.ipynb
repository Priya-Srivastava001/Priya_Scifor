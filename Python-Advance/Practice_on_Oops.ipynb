{
  "nbformat": 4,
  "nbformat_minor": 0,
  "metadata": {
    "colab": {
      "provenance": []
    },
    "kernelspec": {
      "name": "python3",
      "display_name": "Python 3"
    },
    "language_info": {
      "name": "python"
    }
  },
  "cells": [
    {
      "cell_type": "markdown",
      "source": [
        "### Q1: Create a class Employee with private attributes name and salary. Implement methods to set and get these attributes."
      ],
      "metadata": {
        "id": "5ELntjMaOBTl"
      }
    },
    {
      "cell_type": "code",
      "source": [
        "class Employee:\n",
        "    def __init__(self, name, salary):\n",
        "        self.__name = name\n",
        "        self.__salary = salary\n",
        "\n",
        "    def set_name(self, name):\n",
        "        self.__name = name\n",
        "\n",
        "    def set_salary(self, salary):\n",
        "        self.__salary = salary\n",
        "\n",
        "    def get_name(self):\n",
        "        return self.__name\n",
        "\n",
        "    def get_salary(self):\n",
        "        return self.__salary\n",
        "emp = Employee(\"Manish Srivastava\", 60000)\n",
        "\n",
        "name = emp.get_name()\n",
        "salary = emp.get_salary()\n",
        "\n",
        "print(f\"Employee Name: {name}\")\n",
        "print(f\"Employee Salary: {salary}\")"
      ],
      "metadata": {
        "colab": {
          "base_uri": "https://localhost:8080/"
        },
        "id": "q1hwYRtOOgtS",
        "outputId": "e59827dd-d395-4b79-ff2b-4669807279b9"
      },
      "execution_count": 5,
      "outputs": [
        {
          "output_type": "stream",
          "name": "stdout",
          "text": [
            "Employee Name: Manish Srivastava\n",
            "Employee Salary: 60000\n"
          ]
        }
      ]
    },
    {
      "cell_type": "markdown",
      "source": [
        "### Q2: Inheritance: Create a class Animal with a method sound() and two subclasses Dog and Cat that override the sound() method."
      ],
      "metadata": {
        "id": "zgeaq16cOwDa"
      }
    },
    {
      "cell_type": "code",
      "source": [
        "class Animal:\n",
        "    def sound(self):\n",
        "        pass\n",
        "\n",
        "class Dog(Animal):\n",
        "    def sound(self):\n",
        "        return \"Woof\"\n",
        "\n",
        "class Cat(Animal):\n",
        "    def sound(self):\n",
        "        return \"Meow\"\n",
        "\n",
        "dog = Dog()\n",
        "cat = Cat()\n",
        "\n",
        "print(\"Dog Sound:\", dog.sound())\n",
        "print(\"Cat Sound:\", cat.sound())"
      ],
      "metadata": {
        "colab": {
          "base_uri": "https://localhost:8080/"
        },
        "id": "jqFETeOdOzCi",
        "outputId": "a9d311e9-9343-4363-cfd8-213d19b35024"
      },
      "execution_count": 6,
      "outputs": [
        {
          "output_type": "stream",
          "name": "stdout",
          "text": [
            "Dog Sound: Woof\n",
            "Cat Sound: Meow\n"
          ]
        }
      ]
    },
    {
      "cell_type": "markdown",
      "source": [
        "### Q3: Polymorphism: Create a class Shape with a method area(). Implement two subclasses Circle and Rectangle that override the area() method."
      ],
      "metadata": {
        "id": "Qh5NrldWO7jJ"
      }
    },
    {
      "cell_type": "code",
      "source": [
        "from math import pi\n",
        "\n",
        "class Shape:\n",
        "    def area(self):\n",
        "        pass\n",
        "\n",
        "class Circle(Shape):\n",
        "    def __init__(self, radius):\n",
        "        self.radius = radius\n",
        "\n",
        "    def area(self):\n",
        "        return pi * (self.radius ** 2)\n",
        "\n",
        "class Rectangle(Shape):\n",
        "    def __init__(self, width, height):\n",
        "        self.width = width\n",
        "        self.height = height\n",
        "\n",
        "    def area(self):\n",
        "        return self.width * self.height\n",
        "\n",
        "circle = Circle(5)\n",
        "rectangle = Rectangle(4, 6)\n",
        "\n",
        "print(\"Circle Area:\", circle.area())\n",
        "\n",
        "print(\"Rectangle Area:\", rectangle.area())"
      ],
      "metadata": {
        "colab": {
          "base_uri": "https://localhost:8080/"
        },
        "id": "9shlidncPGsL",
        "outputId": "a87c996c-d774-4c49-a544-08a2b07e6849"
      },
      "execution_count": 7,
      "outputs": [
        {
          "output_type": "stream",
          "name": "stdout",
          "text": [
            "Circle Area: 78.53981633974483\n",
            "Rectangle Area: 24\n"
          ]
        }
      ]
    },
    {
      "cell_type": "markdown",
      "source": [
        "### Q4- Encapsulation and Inheritance: Create a base class Vehicle with private attributes speed and color. Implement methods to set and get these attributes. Then, create a subclass Car that inherits from Vehicle and adds a private attribute brand."
      ],
      "metadata": {
        "id": "kT4jOBhzPPVa"
      }
    },
    {
      "cell_type": "code",
      "source": [
        "class Vehicle:\n",
        "    def __init__(self, speed, color):\n",
        "        self.__speed = speed\n",
        "        self.__color = color\n",
        "\n",
        "    def set_speed(self, speed):\n",
        "        self.__speed = speed\n",
        "\n",
        "    def set_color(self, color):\n",
        "        self.__color = color\n",
        "\n",
        "    def get_speed(self):\n",
        "        return self.__speed\n",
        "\n",
        "    def get_color(self):\n",
        "        return self.__color\n",
        "\n",
        "class Car(Vehicle):\n",
        "    def __init__(self, speed, color, brand):\n",
        "        super().__init__(speed, color)\n",
        "        self.__brand = brand\n",
        "\n",
        "    def set_brand(self, brand):\n",
        "        self.__brand = brand\n",
        "\n",
        "    def get_brand(self):\n",
        "        return self.__brand\n",
        "\n",
        "car = Car(60, \"Red\", \"Toyota\")\n",
        "\n",
        "# Printing the speed, color, and brand of the Car\n",
        "print(\"Car Speed:\", car.get_speed())\n",
        "print(\"Car Color:\", car.get_color())\n",
        "print(\"Car Brand:\", car.get_brand())"
      ],
      "metadata": {
        "colab": {
          "base_uri": "https://localhost:8080/"
        },
        "id": "4bTiPPtUPZla",
        "outputId": "5f32fa73-b638-4ae2-c018-a2d6c3a441db"
      },
      "execution_count": 8,
      "outputs": [
        {
          "output_type": "stream",
          "name": "stdout",
          "text": [
            "Car Speed: 60\n",
            "Car Color: Red\n",
            "Car Brand: Toyota\n"
          ]
        }
      ]
    },
    {
      "cell_type": "markdown",
      "source": [
        "## Q5: Polymorphism & Inheritance: Create a base class Animal with a method sound() and two subclasses Dog and Cat that override the sound() method. Additionally, add another subclass Cow with its own implementation of the sound() method."
      ],
      "metadata": {
        "id": "o8KwbuByPcg7"
      }
    },
    {
      "cell_type": "code",
      "source": [
        "class Animal:\n",
        "    def sound(self):\n",
        "        pass\n",
        "\n",
        "class Dog(Animal):\n",
        "    def sound(self):\n",
        "        return \"Woof\"\n",
        "\n",
        "class Cat(Animal):\n",
        "    def sound(self):\n",
        "        return \"Meow\"\n",
        "\n",
        "class Cow(Animal):\n",
        "    def sound(self):\n",
        "        return \"Moo\"\n",
        "\n",
        "dog = Dog()\n",
        "cat = Cat()\n",
        "cow = Cow()\n",
        "\n",
        "# Printing the sounds of the following\n",
        "print(\"Dog Sound:\", dog.sound())\n",
        "print(\"Cat Sound:\", cat.sound())\n",
        "print(\"Cow Sound:\", cow.sound())"
      ],
      "metadata": {
        "colab": {
          "base_uri": "https://localhost:8080/"
        },
        "id": "phzdIlWfPmei",
        "outputId": "c66212fb-39b2-4948-a06a-ee5ab2752bf9"
      },
      "execution_count": 9,
      "outputs": [
        {
          "output_type": "stream",
          "name": "stdout",
          "text": [
            "Dog Sound: Woof\n",
            "Cat Sound: Meow\n",
            "Cow Sound: Moo\n"
          ]
        }
      ]
    }
  ]
}