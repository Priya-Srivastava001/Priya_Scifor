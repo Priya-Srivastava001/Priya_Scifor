{
  "nbformat": 4,
  "nbformat_minor": 0,
  "metadata": {
    "colab": {
      "provenance": []
    },
    "kernelspec": {
      "name": "python3",
      "display_name": "Python 3"
    },
    "language_info": {
      "name": "python"
    }
  },
  "cells": [
    {
      "cell_type": "markdown",
      "source": [
        "## Q-1: Explain Encapsulation with example and write python code."
      ],
      "metadata": {
        "id": "n82665CZ5Q2-"
      }
    },
    {
      "cell_type": "markdown",
      "source": [
        "## Ans: Encapsulation is a principle of object-oriented programming that restricts access to the internal state and behaviour of an object. It bundles the data (attributes) and the methods (functions) that operate on the data into a single unit or class, and controls access to them using access modifiers like private or public.\n",
        "Let's have an example:"
      ],
      "metadata": {
        "id": "d_i5Qruw54yC"
      }
    },
    {
      "cell_type": "code",
      "source": [
        "class Person:\n",
        "  def __init__(self, name, age):\n",
        "    self.__name = name #It's a private attribute\n",
        "    self.__age = age #It's again a private attribute\n",
        "\n",
        "  def get_name (self):\n",
        "    return self.__name #Public method to access the private attribute\n",
        "\n",
        "  def get_age (self):\n",
        "    return self.__age #Again its a public method to access private attribute\n",
        "\n",
        "#Creating an instance of the person class\n",
        "person = Person('Advik', 6)\n",
        "\n",
        "#Accessing the private attributes via public methods\n",
        "print(person.get_name())\n",
        "print(person.get_age())"
      ],
      "metadata": {
        "colab": {
          "base_uri": "https://localhost:8080/"
        },
        "id": "N0IEF7pj6zm0",
        "outputId": "5d7b0ca6-21f3-4daf-f5b5-70017e00e064"
      },
      "execution_count": 1,
      "outputs": [
        {
          "output_type": "stream",
          "name": "stdout",
          "text": [
            "Advik\n",
            "6\n"
          ]
        }
      ]
    },
    {
      "cell_type": "markdown",
      "source": [
        "## Q-2: Explain Polymorphism with example and write python code.\n",
        "\n",
        "## Ans: Polymorphism is an object-oriented programming concept where different classes can be treated as instances of the same class through a common interface. It allows methods to be used interchangeably, despite being implemented differently in each class.\n",
        "\n",
        "Example through python coding:"
      ],
      "metadata": {
        "id": "lgw0tvez8U7m"
      }
    },
    {
      "cell_type": "code",
      "source": [
        "class Animal:\n",
        "  def sound(self):\n",
        "    return \"Some sound\"\n",
        "\n",
        "class Dog(Animal):\n",
        "  def sound(self):\n",
        "    return \"Bark\"\n",
        "\n",
        "class Cat(Animal):\n",
        "  def sound(self):\n",
        "    return \"Meow\"\n",
        "\n",
        "#Funtion to show polymorphism\n",
        "def make_animal_sound(animal):\n",
        "  print(animal.sound())\n",
        "\n",
        "dog= Dog()\n",
        "cat= Cat()\n",
        "\n",
        "#using polymorphism to call the sound method\n",
        "make_animal_sound(dog)\n",
        "make_animal_sound(cat)\n"
      ],
      "metadata": {
        "colab": {
          "base_uri": "https://localhost:8080/"
        },
        "id": "X-fPTzx-9gyf",
        "outputId": "90d686b9-8ace-4524-b27e-74734d3d1ab6"
      },
      "execution_count": 2,
      "outputs": [
        {
          "output_type": "stream",
          "name": "stdout",
          "text": [
            "Bark\n",
            "Meow\n"
          ]
        }
      ]
    },
    {
      "cell_type": "markdown",
      "source": [
        "## Q-3: Expalain single level inheritance with python code.\n",
        "\n",
        "## Ans: Single-level inheritance is a type of inheritance where a class (derived class) inherits from a single base class. This allows the derived class to reuse the code and functionality of the parent class.\n",
        "Python Code:"
      ],
      "metadata": {
        "id": "IOF8V8GP-j_N"
      }
    },
    {
      "cell_type": "code",
      "source": [
        "# Parent class/ base class\n",
        "class Animal:\n",
        "    def sound(self):\n",
        "        return \"Some sound\"\n",
        "# Child class/ derived class\n",
        "class Dog(Animal):\n",
        "    def sound(self):\n",
        "        return \"Bark\"\n",
        "# Creating an instance\n",
        "dog = Dog()\n",
        "# Calling the sound method\n",
        "print(dog.sound())"
      ],
      "metadata": {
        "colab": {
          "base_uri": "https://localhost:8080/"
        },
        "id": "_ESIjLzs_qGe",
        "outputId": "a87917e7-1d5c-45cc-9ebf-3545cdb242c3"
      },
      "execution_count": 3,
      "outputs": [
        {
          "output_type": "stream",
          "name": "stdout",
          "text": [
            "Bark\n"
          ]
        }
      ]
    },
    {
      "cell_type": "markdown",
      "source": [
        "## Q-4: Explain Multiple inheritance with python code.\n",
        "\n",
        "## Ans: Multiple inheritance is a feature of object-oriented programming where a class (child class) can inherit attributes and methods from more than one parent class. This allows the child class to combine behaviors and properties from multiple sources.\n",
        "### Python Code:"
      ],
      "metadata": {
        "id": "sc5pWIv2AGbB"
      }
    },
    {
      "cell_type": "code",
      "source": [
        "# Parent class 1\n",
        "class Animal:\n",
        "    def sound(self):\n",
        "        return \"Some sound\"\n",
        "# Parent class 2\n",
        "class Pet:\n",
        "    def type(self):\n",
        "        return \"Pet\"\n",
        "# Child class\n",
        "class Dog(Animal, Pet):\n",
        "    pass\n",
        "\n",
        "dog = Dog() #Creating instance\n",
        "\n",
        "# Calling methods from both parent classes\n",
        "print(dog.sound())\n",
        "print(dog.type())"
      ],
      "metadata": {
        "colab": {
          "base_uri": "https://localhost:8080/"
        },
        "id": "kuvDDGPIAu6D",
        "outputId": "69833626-b28d-4ad5-b76b-56e9296b3545"
      },
      "execution_count": 8,
      "outputs": [
        {
          "output_type": "stream",
          "name": "stdout",
          "text": [
            "Some sound\n",
            "Pet\n"
          ]
        }
      ]
    },
    {
      "cell_type": "markdown",
      "source": [
        "## Q-5: Explain Muti-level inheritance with python code.\n",
        "\n",
        "## Ans: Multi-level inheritance is a type of inheritance where a class inherits from another class, which in turn inherits from a third class, forming a chain of inheritance.\n",
        "### Python Code:"
      ],
      "metadata": {
        "id": "oWrsFI5HBHEn"
      }
    },
    {
      "cell_type": "code",
      "source": [
        "# Base class\n",
        "class Animal:\n",
        "    def sound(self):\n",
        "        return \"Some sound\"\n",
        "# Intermediate class\n",
        "class Mammal(Animal):\n",
        "    def has_fur(self):\n",
        "        return True\n",
        "# Derived class\n",
        "class Dog(Mammal):\n",
        "    def sound(self):\n",
        "        return \"Bark\"\n",
        "# Creating an instance of Dog\n",
        "dog = Dog()\n",
        "# Calling methods from the inheritance chain\n",
        "print(dog.sound())\n",
        "print(dog.has_fur())"
      ],
      "metadata": {
        "colab": {
          "base_uri": "https://localhost:8080/"
        },
        "id": "b-jb3ilnB6ZJ",
        "outputId": "c4315981-6a35-4bc8-f70e-fa0210a07ef6"
      },
      "execution_count": 9,
      "outputs": [
        {
          "output_type": "stream",
          "name": "stdout",
          "text": [
            "Bark\n",
            "True\n"
          ]
        }
      ]
    },
    {
      "cell_type": "markdown",
      "source": [
        "## Q-6: What do you mean by conditional statements. Explain with python code.\n",
        "\n",
        "## Ans: Conditional statements are used to perform different actions based on different conditions. They allow the program to decide which code to execute based on whether a condition is True or False."
      ],
      "metadata": {
        "id": "-Xx8_JLtCJbo"
      }
    },
    {
      "cell_type": "code",
      "source": [
        "# Pyhton code\n",
        "\n",
        "number = 10\n",
        "\n",
        "if number > 0:\n",
        "    print(\"Positive number\")\n",
        "elif number == 0:\n",
        "    print(\"Zero\")\n",
        "else:\n",
        "    print(\"Negative number\")"
      ],
      "metadata": {
        "colab": {
          "base_uri": "https://localhost:8080/"
        },
        "id": "BcdBuVY5Ck03",
        "outputId": "2bfe3405-1c4a-4268-9158-b79168672828"
      },
      "execution_count": 13,
      "outputs": [
        {
          "output_type": "stream",
          "name": "stdout",
          "text": [
            "Positive number\n"
          ]
        }
      ]
    },
    {
      "cell_type": "markdown",
      "source": [
        "## Q-7: What do you mean by decision making statements. Explain with python code.\n",
        "## Ans: Decision making statements in programming allow the code to execute certain parts based on conditions. They help the program decide which path to take based on the result of the condition.\n",
        "### Python Code:"
      ],
      "metadata": {
        "id": "94A-1ztgC100"
      }
    },
    {
      "cell_type": "code",
      "source": [
        "# Decision making statement\n",
        "age = 18\n",
        "\n",
        "if age >= 18:\n",
        "    print(\"You are an adult.\")\n",
        "else:\n",
        "    print(\"You are a minor.\")"
      ],
      "metadata": {
        "colab": {
          "base_uri": "https://localhost:8080/"
        },
        "id": "PEQrKV3UDOsI",
        "outputId": "f8c9d83a-e838-434c-9639-79a42ae494f4"
      },
      "execution_count": 10,
      "outputs": [
        {
          "output_type": "stream",
          "name": "stdout",
          "text": [
            "You are an adult.\n"
          ]
        }
      ]
    },
    {
      "cell_type": "markdown",
      "source": [
        "## Q-8: Write a program of factorial in python."
      ],
      "metadata": {
        "id": "fZeHTbihDmBA"
      }
    },
    {
      "cell_type": "code",
      "source": [
        "def factorial(n):\n",
        "    result = 1\n",
        "    for i in range(2, n + 1):\n",
        "        result *= i\n",
        "    return result\n",
        "\n",
        "# Taking user input\n",
        "num = int(input(\"Enter a non-negative integer: \"))\n",
        "print(f\"Factorial of {num} is {factorial(num)}\")"
      ],
      "metadata": {
        "colab": {
          "base_uri": "https://localhost:8080/"
        },
        "id": "nKTDdL_BDy5X",
        "outputId": "680c4856-16d8-4259-c73a-c6b5953374ff"
      },
      "execution_count": 11,
      "outputs": [
        {
          "output_type": "stream",
          "name": "stdout",
          "text": [
            "Enter a non-negative integer: 10\n",
            "Factorial of 10 is 3628800\n"
          ]
        }
      ]
    },
    {
      "cell_type": "markdown",
      "source": [
        "## Q-9: What do you understand by Functions? Explain with python code.\n",
        "\n",
        "## Ans: Functions are reusable blocks of code that perform a specific task. They allow for better modularity and code organization. Functions can take inputs (arguments), process them, and return an output. Using functions can help reduce code repetition and improve readability. We have various type of functions, like user-defined, built-in function, anonymous function and also recursive functions.\n",
        "### Python Code:\n"
      ],
      "metadata": {
        "id": "GXnPjtcjD7g2"
      }
    },
    {
      "cell_type": "code",
      "source": [
        "# Defining function\n",
        "def greet(name):\n",
        "    return f\"Hello, {name}!\"\n",
        "\n",
        "# Using the function\n",
        "print(greet(\"Sana\"))\n",
        "print(greet(\"Priya\"))"
      ],
      "metadata": {
        "colab": {
          "base_uri": "https://localhost:8080/"
        },
        "id": "REVhaoDJEgSh",
        "outputId": "7f9d4a57-80ea-488e-9fd3-e8badfadbe1e"
      },
      "execution_count": 12,
      "outputs": [
        {
          "output_type": "stream",
          "name": "stdout",
          "text": [
            "Hello, Sana!\n",
            "Hello, Priya!\n"
          ]
        }
      ]
    },
    {
      "cell_type": "markdown",
      "source": [
        "## Q-10: How many pillars of Oops we have in Python?\n",
        "\n",
        "## Ans: Python, as an object-oriented programming language, has three main pillars of OOP:\n",
        "\n",
        "## Encapsulation: Bundling the data (attributes) and methods (functions) that operate on the data into a single unit or class, and restricting access to some of the object's components.\n",
        "\n",
        "## Inheritance: Creating a new class (derived class) from an existing class (base class), allowing the derived class to inherit attributes and methods from the base class.\n",
        "\n",
        "## Polymorphism: Allowing objects of different classes to be treated as objects of a common base class, typically through method overriding, where different classes implement the same method in different ways.\n",
        "#### We have one more concept, which is said to be **Abstraction**.\n",
        "\n",
        "---\n",
        "\n"
      ],
      "metadata": {
        "id": "birs7ghxFkV5"
      }
    }
  ]
}