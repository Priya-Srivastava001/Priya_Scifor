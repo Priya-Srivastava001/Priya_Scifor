{
  "nbformat": 4,
  "nbformat_minor": 0,
  "metadata": {
    "colab": {
      "provenance": []
    },
    "kernelspec": {
      "name": "python3",
      "display_name": "Python 3"
    },
    "language_info": {
      "name": "python"
    }
  },
  "cells": [
    {
      "cell_type": "markdown",
      "source": [
        "### 1. Reversing a string using a slicing:"
      ],
      "metadata": {
        "id": "cv1DxqSa4Hj6"
      }
    },
    {
      "cell_type": "code",
      "source": [
        "def reverse_string(s):\n",
        "  return s[::-1]\n",
        "s= \"hello\" #Test Case\n",
        "print(reverse_string(s))"
      ],
      "metadata": {
        "colab": {
          "base_uri": "https://localhost:8080/"
        },
        "id": "OJwM4_Yu4Z0h",
        "outputId": "03e01369-6e20-4ad0-e68c-de443703b9d9"
      },
      "execution_count": 1,
      "outputs": [
        {
          "output_type": "stream",
          "name": "stdout",
          "text": [
            "olleh\n"
          ]
        }
      ]
    },
    {
      "cell_type": "markdown",
      "source": [
        "### 2. Checking if a String is a Palindrome:"
      ],
      "metadata": {
        "id": "i4LZD7hN46f_"
      }
    },
    {
      "cell_type": "code",
      "source": [
        "def is_palindrome(s):\n",
        "  return s==s[::-1]\n",
        "#Test Case\n",
        "s= \"radar\"\n",
        "print(is_palindrome(s))"
      ],
      "metadata": {
        "colab": {
          "base_uri": "https://localhost:8080/"
        },
        "id": "C4ETsy0J5Dju",
        "outputId": "ebea8025-f93e-4003-acb8-bc751a12bd8f"
      },
      "execution_count": 2,
      "outputs": [
        {
          "output_type": "stream",
          "name": "stdout",
          "text": [
            "True\n"
          ]
        }
      ]
    },
    {
      "cell_type": "markdown",
      "source": [
        "### 3. Counting vowels in a string.\n",
        "\n"
      ],
      "metadata": {
        "id": "5nuy8x-q5fjE"
      }
    },
    {
      "cell_type": "code",
      "source": [
        "def count_vowels(s):\n",
        "  vowels= \"aeioyAEIOU\"\n",
        "  return sum(1 for char in s if char in vowels)\n",
        "\n",
        "s= \"hello world\"\n",
        "print(count_vowels(s))"
      ],
      "metadata": {
        "colab": {
          "base_uri": "https://localhost:8080/"
        },
        "id": "vw_YSn4v5p-R",
        "outputId": "36c8f32b-2010-4e58-dd38-6e389f019a48"
      },
      "execution_count": 3,
      "outputs": [
        {
          "output_type": "stream",
          "name": "stdout",
          "text": [
            "3\n"
          ]
        }
      ]
    },
    {
      "cell_type": "markdown",
      "source": [
        "### 4. Removing duplicate characters from a string while maintaining order."
      ],
      "metadata": {
        "id": "QP7KDZDN6JCJ"
      }
    },
    {
      "cell_type": "code",
      "source": [
        "def remove_duplicates(s):\n",
        "  seen= set()\n",
        "  return ''.join(seen.add(char) or char for char in s if char not in seen)\n",
        "\n",
        "s= \"programming\"\n",
        "print(remove_duplicates(s))"
      ],
      "metadata": {
        "colab": {
          "base_uri": "https://localhost:8080/"
        },
        "id": "fYj7HhVR6VMZ",
        "outputId": "d8cabb80-85ae-4c5c-82de-233ada174bf3"
      },
      "execution_count": 4,
      "outputs": [
        {
          "output_type": "stream",
          "name": "stdout",
          "text": [
            "progamin\n"
          ]
        }
      ]
    },
    {
      "cell_type": "markdown",
      "source": [
        "### 5. Finding the first non-repeating character in a string."
      ],
      "metadata": {
        "id": "GXbsh4wD7xh6"
      }
    },
    {
      "cell_type": "code",
      "source": [
        "def first_non_repeating_char(s):\n",
        "    from collections import Counter\n",
        "    count = Counter(s)\n",
        "    for char in s:\n",
        "        if count[char] == 1:\n",
        "            return char\n",
        "    return None\n",
        "\n",
        "s = \"India\"\n",
        "print(first_non_repeating_char(s))"
      ],
      "metadata": {
        "colab": {
          "base_uri": "https://localhost:8080/"
        },
        "id": "hE3XEHpV77Lb",
        "outputId": "39110221-801d-454f-9d1c-71440e8eefe0"
      },
      "execution_count": 6,
      "outputs": [
        {
          "output_type": "stream",
          "name": "stdout",
          "text": [
            "I\n"
          ]
        }
      ]
    }
  ]
}