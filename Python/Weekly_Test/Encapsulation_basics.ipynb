{
  "nbformat": 4,
  "nbformat_minor": 0,
  "metadata": {
    "colab": {
      "provenance": []
    },
    "kernelspec": {
      "name": "python3",
      "display_name": "Python 3"
    },
    "language_info": {
      "name": "python"
    }
  },
  "cells": [
    {
      "cell_type": "markdown",
      "source": [
        "### **Encapsulation:** Encapsulation is one of the fundamental principles of object-oriented programming (OOP). It refers to the bundling of data (attributes) and methods (functions) that operate on the data into a single unit or class. Encapsulation restricts direct access to some of an object's components, which can help prevent the accidental modification of data.\n",
        "\n",
        "#### **Public Attributes and Methods:** Accessible from outside the class.\n",
        "#### **Private Attributes and Methods:** Not accessible from outside the class. In Python, private attributes and methods are prefixed with a double underscore (__).\n",
        "#### **Real-Life Example:**\n",
        "#### **Consider a bank account:**\n",
        "\n",
        "#### Attributes: Account number, balance, and pin.\n",
        "#### Methods: Deposit, withdraw, and check balance.\n",
        "#### Encapsulation ensures that the balance and pin are protected and can only be modified through well-defined methods.\n",
        "\n",
        "#### **Python Implementation:**\n",
        "#### Bank Account Example with Encapsulation:\n",
        "\n",
        "---\n",
        "\n"
      ],
      "metadata": {
        "id": "IFe0J4Lzu8DK"
      }
    },
    {
      "cell_type": "code",
      "source": [
        "class BankAccount:\n",
        "    def __init__(self, account_number, pin, balance=0):\n",
        "        self.account_number = account_number  # Public attribute\n",
        "        self.__pin = pin                      # Private attribute\n",
        "        self.__balance = balance              # Private attribute\n",
        "\n",
        "    # Public method to check balance\n",
        "    def check_balance(self, pin):\n",
        "        if self.__verify_pin(pin):\n",
        "            return self.__balance\n",
        "        else:\n",
        "            return \"Invalid PIN\"\n",
        "\n",
        "    # Public method to deposit money\n",
        "    def deposit(self, pin, amount):\n",
        "        if self.__verify_pin(pin):\n",
        "            if amount > 0:\n",
        "                self.__balance += amount\n",
        "                return f\"Deposited Rs.{amount}. New balance is Rs.{self.__balance}.\"\n",
        "            else:\n",
        "                return \"Deposit amount must be positive.\"\n",
        "        else:\n",
        "            return \"Invalid PIN\"\n",
        "\n",
        "    # Public method to withdraw money\n",
        "    def withdraw(self, pin, amount):\n",
        "        if self.__verify_pin(pin):\n",
        "            if 0 < amount <= self.__balance:\n",
        "                self.__balance -= amount\n",
        "                return f\"Withdrew Rs.{amount}. New balance is Rs.{self.__balance}.\"\n",
        "            else:\n",
        "                return \"Insufficient funds or invalid amount.\"\n",
        "        else:\n",
        "            return \"Invalid PIN\"\n",
        "\n",
        "    # Private method to verify PIN\n",
        "    def __verify_pin(self, pin):\n",
        "        return self.__pin == pin\n",
        "\n",
        "# Creating an instance of BankAccount\n",
        "account = BankAccount(\"1234567890\", 1234, 500)\n",
        "\n",
        "# Interacting with the account\n",
        "print(account.check_balance(1234))\n",
        "print(account.deposit(1234, 200))\n",
        "print(account.withdraw(1234, 100))\n",
        "print(account.withdraw(4321, 100))\n"
      ],
      "metadata": {
        "colab": {
          "base_uri": "https://localhost:8080/"
        },
        "id": "A6-iY6UUwRvS",
        "outputId": "ed308b89-6cac-4a6c-8778-e4b7ca25db55"
      },
      "execution_count": 2,
      "outputs": [
        {
          "output_type": "stream",
          "name": "stdout",
          "text": [
            "500\n",
            "Deposited Rs.200. New balance is Rs.700.\n",
            "Withdrew Rs.100. New balance is Rs.600.\n",
            "Invalid PIN\n"
          ]
        }
      ]
    }
  ]
}