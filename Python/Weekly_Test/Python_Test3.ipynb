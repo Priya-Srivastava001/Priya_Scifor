{
  "nbformat": 4,
  "nbformat_minor": 0,
  "metadata": {
    "colab": {
      "provenance": []
    },
    "kernelspec": {
      "name": "python3",
      "display_name": "Python 3"
    },
    "language_info": {
      "name": "python"
    }
  },
  "cells": [
    {
      "cell_type": "markdown",
      "source": [
        "### Qstn 1: Write a program in Python to show all levels of Inheritance.\n",
        "\n",
        "---\n",
        "\n"
      ],
      "metadata": {
        "id": "b-EMZE30WBpf"
      }
    },
    {
      "cell_type": "code",
      "source": [
        "# Base class for single-level, multi-level, and hierarchical inheritance\n",
        "class Animal:\n",
        "    def sound(self):\n",
        "        return \"Some generic sound\"\n",
        "\n",
        "# Single-Level Inheritance\n",
        "class Dog(Animal):\n",
        "    def sound(self):\n",
        "        return \"Bark\"\n",
        "\n",
        "# Multi-Level Inheritance\n",
        "class Puppy(Dog):\n",
        "    def sound(self):\n",
        "        return \"Small bark\"\n",
        "\n",
        "# Classes for multiple inheritance\n",
        "class generic_species:\n",
        "    def bark(self):\n",
        "        return \"Bark\"\n",
        "\n",
        "class Pet:\n",
        "    def is_pet(self):\n",
        "        return True\n",
        "\n",
        "# Multiple Inheritance\n",
        "class Bulldog(generic_species, Pet):\n",
        "    def breed(self):\n",
        "        return \"Bulldog\"\n",
        "\n",
        "# Hierarchical Inheritance\n",
        "class Cat(Animal):\n",
        "    def sound(self):\n",
        "        return \"Meow\"\n",
        "\n",
        "# Testing all levels of inheritance\n",
        "\n",
        "# Single-Level Inheritance\n",
        "dog = Dog()\n",
        "print(\"Single-Level Inheritance: Dog:\", dog.sound())\n",
        "\n",
        "# Multi-Level Inheritance\n",
        "puppy = Puppy()\n",
        "print(\"Multi-Level Inheritance: Puppy:\", puppy.sound())\n",
        "\n",
        "# Multiple Inheritance\n",
        "bulldog = Bulldog()\n",
        "print(\"Multiple Inheritance: Bulldog:\", bulldog.bark(), \"-\", bulldog.is_pet(), \"-\", bulldog.breed())\n",
        "\n",
        "# Hierarchical Inheritance\n",
        "cat = Cat()\n",
        "print(\"Hierarchical Inheritance: Cat:\", cat.sound())\n"
      ],
      "metadata": {
        "colab": {
          "base_uri": "https://localhost:8080/"
        },
        "id": "W7Vgrgj7WIOE",
        "outputId": "6f01759e-f0bd-4163-83a6-feb1b412327f"
      },
      "execution_count": 1,
      "outputs": [
        {
          "output_type": "stream",
          "name": "stdout",
          "text": [
            "Single-Level Inheritance: Dog: Bark\n",
            "Multi-Level Inheritance: Puppy: Small bark\n",
            "Multiple Inheritance: Bulldog: Bark - True - Bulldog\n",
            "Hierarchical Inheritance: Cat: Meow\n"
          ]
        }
      ]
    },
    {
      "cell_type": "markdown",
      "source": [
        "### Qstn 2: Write a program in Python to show Method Overloading.\n",
        "#### Ans:- Some explanation: Method overloading refers to the ability to create multiple methods in the same class, all having the same name but different parameters (either in number or type). It allows a class to perform a single action in different ways.\n",
        "- Here is an example:\n",
        "\n",
        "---\n",
        "\n"
      ],
      "metadata": {
        "id": "WXQvwE1BWN_M"
      }
    },
    {
      "cell_type": "code",
      "source": [
        "class Calculator:\n",
        "    def add(self, a, b=0, c=0):\n",
        "        return a + b + c\n",
        "\n",
        "# Creating an instance of Calculator\n",
        "calc = Calculator()\n",
        "\n",
        "# Testing method overloading\n",
        "print(calc.add(2))          # one argument\n",
        "print(calc.add(2, 3))       # two arguments\n",
        "print(calc.add(2, 3, 4))    # three arguments\n"
      ],
      "metadata": {
        "colab": {
          "base_uri": "https://localhost:8080/"
        },
        "id": "goyEiYzlWShl",
        "outputId": "0a7d4fce-2acf-4190-c8aa-ac4f1ced2565"
      },
      "execution_count": 2,
      "outputs": [
        {
          "output_type": "stream",
          "name": "stdout",
          "text": [
            "2\n",
            "5\n",
            "9\n"
          ]
        }
      ]
    },
    {
      "cell_type": "markdown",
      "source": [
        "### Qstn 3: Write a program in Python to show Method Overriding.\n",
        "#### Ans:- Some explanation: Method overriding occurs when a subclass provides a specific implementation of a method that is already defined in its superclass. The method in the subclass should have the same name, same parameters, and same return type as the method in the superclass.\n",
        "#### Below is the code:\n",
        "\n",
        "---\n",
        "\n"
      ],
      "metadata": {
        "id": "n103KUSVWU4t"
      }
    },
    {
      "cell_type": "code",
      "source": [
        "# Superclass\n",
        "class Animal:\n",
        "    def sound(self):\n",
        "        return \"Generic sound\"\n",
        "\n",
        "# Subclass Dog overrides the sound method\n",
        "class Dog(Animal):\n",
        "    def sound(self):\n",
        "        return \"Bark\"\n",
        "\n",
        "# Subclass Cat overrides the sound method\n",
        "class Cat(Animal):\n",
        "    def sound(self):\n",
        "        return \"Meow\"\n",
        "\n",
        "# Creating instances of each class\n",
        "animal = Animal()\n",
        "dog = Dog()\n",
        "cat = Cat()\n",
        "\n",
        "# Demonstrating method overriding\n",
        "print(animal.sound())\n",
        "print(dog.sound())\n",
        "print(cat.sound())\n"
      ],
      "metadata": {
        "colab": {
          "base_uri": "https://localhost:8080/"
        },
        "id": "SZxVXe-wWY-D",
        "outputId": "424ae972-2416-427a-bddd-91120f058ec2"
      },
      "execution_count": 3,
      "outputs": [
        {
          "output_type": "stream",
          "name": "stdout",
          "text": [
            "Generic sound\n",
            "Bark\n",
            "Meow\n"
          ]
        }
      ]
    }
  ]
}