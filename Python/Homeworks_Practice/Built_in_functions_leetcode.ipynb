{
  "nbformat": 4,
  "nbformat_minor": 0,
  "metadata": {
    "colab": {
      "provenance": []
    },
    "kernelspec": {
      "name": "python3",
      "display_name": "Python 3"
    },
    "language_info": {
      "name": "python"
    }
  },
  "cells": [
    {
      "cell_type": "markdown",
      "source": [
        "### 1. Length of Last Word:\n",
        "### Given a string consisting of words and spaces, return the length of the\n",
        "\n",
        "---\n",
        "\n",
        "last word in the string.\n",
        "### A word is a maximal substring consisting of non-space characters only."
      ],
      "metadata": {
        "id": "swDr27wi0oEi"
      }
    },
    {
      "cell_type": "code",
      "source": [
        "s1 = \"Hello World\"\n",
        "s2 = \"   fly me   to   the moon  \"\n",
        "s3 = \"luffy is still joyboy\"\n",
        "\n",
        "# Strip any trailing spaces and split by spaces\n",
        "words1 = s1.rstrip().split()\n",
        "words2 = s2.rstrip().split()\n",
        "words3 = s3.rstrip().split()\n",
        "\n",
        "# Print the length of the last word\n",
        "print(len(words1[-1]))\n",
        "print(len(words2[-1]))\n",
        "print(len(words3[-1]))"
      ],
      "metadata": {
        "colab": {
          "base_uri": "https://localhost:8080/"
        },
        "id": "yCGZhHyz1G_f",
        "outputId": "a427a55b-0faa-4743-f301-21b014929318"
      },
      "execution_count": 1,
      "outputs": [
        {
          "output_type": "stream",
          "name": "stdout",
          "text": [
            "5\n",
            "4\n",
            "6\n"
          ]
        }
      ]
    },
    {
      "cell_type": "markdown",
      "source": [
        "### 2. To Lower Case:\n",
        "### Given a string, return the string after replacing every uppercase letter with the same lowercase letter.\n",
        "\n",
        "---\n",
        "\n"
      ],
      "metadata": {
        "id": "MR_qyk2L1VJF"
      }
    },
    {
      "cell_type": "code",
      "source": [
        "# Example inputs\n",
        "s1 = \"Hello\"\n",
        "s2 = \"here\"\n",
        "s3 = \"LOVELY\"\n",
        "\n",
        "# Convert to lowercase\n",
        "output1 = s1.lower()\n",
        "output2 = s2.lower()\n",
        "output3 = s3.lower()\n",
        "\n",
        "# Print outputs\n",
        "print(output1)\n",
        "print(output2)\n",
        "print(output3)"
      ],
      "metadata": {
        "colab": {
          "base_uri": "https://localhost:8080/"
        },
        "id": "E61fvkJQ1ewX",
        "outputId": "91b4e822-ca09-4716-9c15-9a063c3b11f1"
      },
      "execution_count": 2,
      "outputs": [
        {
          "output_type": "stream",
          "name": "stdout",
          "text": [
            "hello\n",
            "here\n",
            "lovely\n"
          ]
        }
      ]
    }
  ]
}