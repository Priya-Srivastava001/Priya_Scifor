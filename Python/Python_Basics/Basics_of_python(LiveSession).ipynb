{
  "nbformat": 4,
  "nbformat_minor": 0,
  "metadata": {
    "colab": {
      "provenance": []
    },
    "kernelspec": {
      "name": "python3",
      "display_name": "Python 3"
    },
    "language_info": {
      "name": "python"
    }
  },
  "cells": [
    {
      "cell_type": "code",
      "execution_count": null,
      "metadata": {
        "colab": {
          "base_uri": "https://localhost:8080/"
        },
        "id": "xP5thGtn25bW",
        "outputId": "44ce1ee6-04cc-438d-bd1a-39f681f9aaa6"
      },
      "outputs": [
        {
          "output_type": "stream",
          "name": "stdout",
          "text": [
            "Hello World\n"
          ]
        }
      ],
      "source": [
        "print(\"Hello World\")"
      ]
    },
    {
      "cell_type": "code",
      "source": [
        "#VARIABLE - PLACEHOLDER / STORE DATA\n",
        "message = \"Hello World\"\n",
        "print(message)"
      ],
      "metadata": {
        "colab": {
          "base_uri": "https://localhost:8080/"
        },
        "id": "KUr-e6rO3KNh",
        "outputId": "8ba1e4c3-2267-422c-88d0-f0716cd33adf"
      },
      "execution_count": null,
      "outputs": [
        {
          "output_type": "stream",
          "name": "stdout",
          "text": [
            "Hello World\n"
          ]
        }
      ]
    },
    {
      "cell_type": "code",
      "source": [
        "#by default = string is the data type in input function.\n",
        "#DATA TYPES -\n",
        "\n",
        "# INTEGER = NUMERICAL VALUE = WHOLE NO = 1,2,3....\n",
        "# FLOAT = DECIMAL = 0.3, 0.5 , 0.8....\n",
        "# CHARACTER = a,b,c || A,B,C\n",
        "# STRING = COLLECTION OF CHARACTERS = Python, jupyter\n",
        "#BOOLEAN = True or False , 0 OR 1\n"
      ],
      "metadata": {
        "id": "cq4X-4OJ3bNZ"
      },
      "execution_count": null,
      "outputs": []
    },
    {
      "cell_type": "code",
      "source": [
        "#CONDITIONAL MAKING STATEMENTS\n",
        "#IT HELPS US TO MAKE DECISION BASED ON CERTAIN CONDITIONS\n",
        "\n",
        "#TYPES OF CONDITIONAL STATEMENTS\n",
        "\n",
        "#1-IF-ELSE\n",
        "#2- NESTED - IF - STATEMENT\n",
        "#3 - MATCH CASE STATEMENT"
      ],
      "metadata": {
        "id": "7GzDbj083sdq"
      },
      "execution_count": null,
      "outputs": []
    },
    {
      "cell_type": "code",
      "source": [
        "#IF-ELSE\n",
        "\n",
        "#IF CONDITION 1 :\n",
        "      STATEMENT 1\n",
        "#ELSE :\n",
        "    STATEMENT 2"
      ],
      "metadata": {
        "id": "kuC45Oul3v9I"
      },
      "execution_count": null,
      "outputs": []
    },
    {
      "cell_type": "code",
      "source": [
        "#NESTED - IF\n",
        "\n",
        "# IF (CONDITION):\n",
        "# {\n",
        "#     IF\n",
        "#     STATEMENT WILL GET EXECUTED\n",
        "# }"
      ],
      "metadata": {
        "id": "f1cejaQQ36Ww"
      },
      "execution_count": null,
      "outputs": []
    },
    {
      "cell_type": "code",
      "source": [
        "#NESTED - IF\n",
        "\n",
        "# IF (CONDITION):\n",
        "# {\n",
        "#     ELIF :\n",
        "#     STATEMENT WILL GET EXECUTED\n",
        "      ELIF :\n",
        "      STATEMENT:\n",
        "      ELSE :\n",
        "      STATEMENT :\n",
        "# }"
      ],
      "metadata": {
        "id": "j-6x6MRb36Z9"
      },
      "execution_count": null,
      "outputs": []
    },
    {
      "cell_type": "code",
      "source": [
        "value = 30\n",
        "\n",
        "if value <10 :\n",
        "  print(\"value is less than 10\")\n",
        "\n",
        "if value>20:\n",
        "  print(\"value ias greater than 20\")"
      ],
      "metadata": {
        "colab": {
          "base_uri": "https://localhost:8080/"
        },
        "id": "eDYzNrs04Dxa",
        "outputId": "c46060f8-a53e-47bb-d66d-d6569b80d67b"
      },
      "execution_count": null,
      "outputs": [
        {
          "output_type": "stream",
          "name": "stdout",
          "text": [
            "value ias greater than 20\n"
          ]
        }
      ]
    },
    {
      "cell_type": "code",
      "source": [
        "# #FUNCTION = THAT HELPS US TO RE-USE THE SAME PIECE OF CODE AGAIN AND AGAIN WITHOUT EXPLICITLY DEFINITING WHENEVER WE NEED\n",
        "# WE CALL THE FUNCTION WHENVER WE NEED IT INSTEAD OF MAKING IT SECOND TIME\n",
        "\n",
        "#ADD\n",
        "\n",
        "#SUBTRACTION\n",
        "\n",
        "#MULTIPLICATION\n",
        "\n",
        "#DIVISION\n",
        "\n",
        "#ADD - CODE AGAIN? (WITHOUT FUNCTION, AGAIN - MARK)\n",
        "\n",
        "#ADD - CODE AGAIN? (FUNCTON, ONLY BY THE NAME YOU CAN CALL FUNCTION)\n",
        "\n",
        "#DIVISON - CALL MY FUNCTION OF DIVISON\n",
        "\n",
        "\n",
        "#HOW TO INITILAIZE/ MAKE FUNCTION ?\n",
        "\n",
        "# def functioname"
      ],
      "metadata": {
        "id": "MqPx4nAe4D0r"
      },
      "execution_count": null,
      "outputs": []
    },
    {
      "cell_type": "code",
      "source": [
        "# def apporv:\n",
        "#   .......\n",
        "#   .......\n",
        "#   logic\n",
        "#   .......\n",
        "#   ......\n",
        "\n",
        "# call apporv"
      ],
      "metadata": {
        "id": "W56AiCc04D4A"
      },
      "execution_count": null,
      "outputs": []
    },
    {
      "cell_type": "code",
      "source": [
        "def add(a,b,c):\n",
        "  return a+b+c\n",
        "\n",
        "result = add (5,3,2)\n",
        "print(result)"
      ],
      "metadata": {
        "colab": {
          "base_uri": "https://localhost:8080/"
        },
        "id": "i9pSf8B64NXw",
        "outputId": "e2f3183a-7678-4fdb-fd48-76fbddfb31d7"
      },
      "execution_count": null,
      "outputs": [
        {
          "output_type": "stream",
          "name": "stdout",
          "text": [
            "10\n"
          ]
        }
      ]
    },
    {
      "cell_type": "code",
      "source": [
        "#SWITCH CASE\n",
        "\n",
        "def number(a):\n",
        "  match a :\n",
        "    case 0 :\n",
        "      return \"zero\"\n",
        "    case 1:\n",
        "      return \"one\"\n",
        "    case 2:\n",
        "      return \"two\"\n",
        "    case default :\n",
        "      return \"defaultstatement\"\n",
        "\n",
        "head = number(5)\n",
        "print(head)"
      ],
      "metadata": {
        "colab": {
          "base_uri": "https://localhost:8080/"
        },
        "id": "2UrsQfAg4Naz",
        "outputId": "f59847c3-8baf-405a-befb-51a3e70da40d"
      },
      "execution_count": null,
      "outputs": [
        {
          "output_type": "stream",
          "name": "stdout",
          "text": [
            "defaultstatement\n"
          ]
        }
      ]
    },
    {
      "cell_type": "code",
      "source": [
        "# IF-ELIF-ELSE\n",
        "\n",
        "IF\n",
        "{\n",
        "# IF CONDITION 1 :\n",
        "#     PRINT(STATEMENT)\n",
        "# ELIF :\n",
        "#     PRINT\n",
        "# ELIF :\n",
        "#     PRINT()\n",
        "# ELSE :\n",
        "#   PRINT()\n",
        "}"
      ],
      "metadata": {
        "id": "vlN9ZnEG4Neh"
      },
      "execution_count": null,
      "outputs": []
    },
    {
      "cell_type": "code",
      "source": [
        "#LOOPS IN PYTHON\n",
        "\n",
        "#THREE CATEGORIES :\n",
        "\n",
        "#FOR LOOP\n",
        "#DO WHILE LOOP\n",
        "#WHILE LOOP\n"
      ],
      "metadata": {
        "id": "yTgTwDky4aTR"
      },
      "execution_count": null,
      "outputs": []
    },
    {
      "cell_type": "code",
      "source": [
        "#FOR LOOP # known - sequence by the help of range functions\n",
        "\n",
        "# range(1,11) (X,Y) -> X= INCLUSIVE, Y=>EXCLUSIVE\n",
        "# 1\n",
        "# 2\n",
        "# 3\n",
        "# 4\n",
        "# 5\n",
        "# 6\n",
        "# 7\n",
        "# 8\n",
        "# 9\n",
        "# 10\n",
        "\n",
        "# range(0,12,2)\n",
        "\n",
        "# 0\n",
        "# 2\n",
        "# 4\n",
        "# 6\n",
        "# 8\n",
        "# 10\n",
        "\n",
        "for i in range(0,10,2):\n",
        "  print(i)"
      ],
      "metadata": {
        "colab": {
          "base_uri": "https://localhost:8080/"
        },
        "id": "bL7XUz2Q4aWh",
        "outputId": "b22cb60b-1311-4b96-acfa-6f3b3327d987"
      },
      "execution_count": null,
      "outputs": [
        {
          "output_type": "stream",
          "name": "stdout",
          "text": [
            "0\n",
            "2\n",
            "4\n",
            "6\n",
            "8\n"
          ]
        }
      ]
    },
    {
      "cell_type": "code",
      "source": [
        "l=[\"python\", \"machine learning\", \"AI\"]\n",
        "\n",
        "for i in l :\n",
        "  print(i)"
      ],
      "metadata": {
        "colab": {
          "base_uri": "https://localhost:8080/"
        },
        "id": "Qv5LofCT4aZ3",
        "outputId": "12728121-0f58-479d-a892-ecefa7799c34"
      },
      "execution_count": null,
      "outputs": [
        {
          "output_type": "stream",
          "name": "stdout",
          "text": [
            "python\n",
            "machine learning\n",
            "AI\n"
          ]
        }
      ]
    },
    {
      "cell_type": "code",
      "source": [
        "#DIFFERENCE BETWEEN WHILE LOOP AND DO WHILE LOOP\n",
        "\n",
        "#WHILE LOOP = IT EXECUTE AS LONG AS THE CONDITION IS TRUE / THE NO OF EXECUTION OF INTERATION IS NOT KNOWN TO US BEFOREHEAD\n",
        "i=1\n",
        "while i<=5:\n",
        "  print(i)\n",
        "  i+=1"
      ],
      "metadata": {
        "colab": {
          "base_uri": "https://localhost:8080/"
        },
        "id": "cOdAECcz36dG",
        "outputId": "40ffdd22-18f2-4b93-b764-56ef69b2f1d9"
      },
      "execution_count": null,
      "outputs": [
        {
          "output_type": "stream",
          "name": "stdout",
          "text": [
            "1\n",
            "2\n",
            "3\n",
            "4\n",
            "5\n"
          ]
        }
      ]
    },
    {
      "cell_type": "code",
      "source": [
        "#DO WHILE LOOP\n",
        "\n",
        "i = 1\n",
        "\n",
        "while True :\n",
        "  print(i)\n",
        "  i=i+1\n",
        "  if(i>5):\n",
        "    break"
      ],
      "metadata": {
        "colab": {
          "base_uri": "https://localhost:8080/"
        },
        "id": "LJtyNpAK4pJE",
        "outputId": "fc6ee8dc-9719-42f8-c3ef-e1942895efcc"
      },
      "execution_count": null,
      "outputs": [
        {
          "output_type": "stream",
          "name": "stdout",
          "text": [
            "1\n",
            "2\n",
            "3\n",
            "4\n",
            "5\n"
          ]
        }
      ]
    },
    {
      "cell_type": "code",
      "source": [],
      "metadata": {
        "id": "PNhfGu5_4pMH"
      },
      "execution_count": null,
      "outputs": []
    },
    {
      "cell_type": "code",
      "source": [],
      "metadata": {
        "id": "u9VS98Zy4pPe"
      },
      "execution_count": null,
      "outputs": []
    },
    {
      "cell_type": "code",
      "source": [],
      "metadata": {
        "id": "vaj8oHfN4pSd"
      },
      "execution_count": null,
      "outputs": []
    }
  ]
}